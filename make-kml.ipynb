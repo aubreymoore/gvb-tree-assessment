{
 "cells": [
  {
   "cell_type": "code",
   "execution_count": 4,
   "metadata": {
    "collapsed": false
   },
   "outputs": [],
   "source": [
    "import simplekml\n",
    "import sqlite3\n",
    "import pandas as pd"
   ]
  },
  {
   "cell_type": "code",
   "execution_count": 5,
   "metadata": {
    "collapsed": false
   },
   "outputs": [
    {
     "data": {
      "text/html": [
       "<div style=\"max-height:1000px;max-width:1500px;overflow:auto;\">\n",
       "<table border=\"1\" class=\"dataframe\">\n",
       "  <thead>\n",
       "    <tr style=\"text-align: right;\">\n",
       "      <th></th>\n",
       "      <th>group</th>\n",
       "      <th>criteria</th>\n",
       "      <th>color</th>\n",
       "    </tr>\n",
       "  </thead>\n",
       "  <tbody>\n",
       "    <tr>\n",
       "      <th>0</th>\n",
       "      <td>No CRB damage</td>\n",
       "      <td>ecplus_c11 IS NULL OR ecplus_c11 LIKE \"no CRB ...</td>\n",
       "      <td>4278255380</td>\n",
       "    </tr>\n",
       "    <tr>\n",
       "      <th>1</th>\n",
       "      <td>Old damage</td>\n",
       "      <td>ecplus_c11 LIKE \"old damage\" OR ecplus_c11 LIK...</td>\n",
       "      <td>4279562495</td>\n",
       "    </tr>\n",
       "    <tr>\n",
       "      <th>2</th>\n",
       "      <td>New damage</td>\n",
       "      <td>ecplus_c11 LIKE \"new damage\" OR ecplus_c11 LIK...</td>\n",
       "      <td>4279531775</td>\n",
       "    </tr>\n",
       "    <tr>\n",
       "      <th>3</th>\n",
       "      <td>New and old damage</td>\n",
       "      <td>ecplus_c11 LIKE \"new damage,old damage,bore ho...</td>\n",
       "      <td>4279501055</td>\n",
       "    </tr>\n",
       "    <tr>\n",
       "      <th>4</th>\n",
       "      <td>Dead standing palm</td>\n",
       "      <td>ecplus_c11 LIKE \"standing dead palm (snag)\"</td>\n",
       "      <td>4278190080</td>\n",
       "    </tr>\n",
       "  </tbody>\n",
       "</table>\n",
       "</div>"
      ],
      "text/plain": [
       "                group                                           criteria  \\\n",
       "0       No CRB damage  ecplus_c11 IS NULL OR ecplus_c11 LIKE \"no CRB ...   \n",
       "1          Old damage  ecplus_c11 LIKE \"old damage\" OR ecplus_c11 LIK...   \n",
       "2          New damage  ecplus_c11 LIKE \"new damage\" OR ecplus_c11 LIK...   \n",
       "3  New and old damage  ecplus_c11 LIKE \"new damage,old damage,bore ho...   \n",
       "4  Dead standing palm        ecplus_c11 LIKE \"standing dead palm (snag)\"   \n",
       "\n",
       "        color  \n",
       "0  4278255380  \n",
       "1  4279562495  \n",
       "2  4279531775  \n",
       "3  4279501055  \n",
       "4  4278190080  "
      ]
     },
     "execution_count": 5,
     "metadata": {},
     "output_type": "execute_result"
    }
   ],
   "source": [
    "grouplist = ['No CRB damage','Old damage','New damage','New and old damage','Dead standing palm']\n",
    "criterialist = ['ecplus_c11 IS NULL OR ecplus_c11 LIKE \"no CRB damage\"',\n",
    "                'ecplus_c11 LIKE \"old damage\" OR ecplus_c11 LIKE \"old damage,bore hole\" OR ecplus_c11 LIKE \"bore hole\"',\n",
    "                'ecplus_c11 LIKE \"new damage\" OR ecplus_c11 LIKE \"new damage,bore hole\"',\n",
    "                'ecplus_c11 LIKE \"new damage,old damage,bore hole\" OR ecplus_c11 LIKE \"new damage,old damage\"',\n",
    "                'ecplus_c11 LIKE \"standing dead palm (snag)\"']\n",
    "green = 0xFF00FF14\n",
    "yellow = 0xFF14F0FF\n",
    "orange = 0xFF1478FF\n",
    "red = 0xFF1400FF\n",
    "black = 0xFF000000\n",
    "colorlist = [green, yellow, orange, red, black]\n",
    "d = {'group':grouplist, 'criteria':criterialist, 'color':colorlist}\n",
    "df = pd.DataFrame(d, columns=('group','criteria', 'color'))\n",
    "df"
   ]
  },
  {
   "cell_type": "code",
   "execution_count": 6,
   "metadata": {
    "collapsed": false
   },
   "outputs": [],
   "source": [
    "kml = simplekml.Kml()\n",
    "#con = sqlite3.connect('AAFB-CRB-Damage.sqlite')\n",
    "con = sqlite3.connect('navy-trees.sqlite')\n",
    "for index, row in df.iterrows():\n",
    "    cursor = con.cursor()\n",
    "    sql = '''\n",
    "    SELECT ecplus_c_2 as latitude, ecplus_c_3 as longitude \n",
    "    FROM navy_trees\n",
    "    WHERE {}\n",
    "    '''.format(row.criteria)\n",
    "    cursor.execute(sql)\n",
    "    fol = kml.newfolder(name=row.group)\n",
    "    for r in cursor.fetchall():\n",
    "        latitude, longitude = r\n",
    "        pnt = fol.newpoint(coords=[(longitude, latitude)])\n",
    "        pnt.style.iconstyle.color = hex(row.color)\n",
    "    cursor.close\n",
    "kml.savekmz(\"navy-crb-damage.kmz\")"
   ]
  },
  {
   "cell_type": "code",
   "execution_count": null,
   "metadata": {
    "collapsed": true
   },
   "outputs": [],
   "source": []
  }
 ],
 "metadata": {
  "kernelspec": {
   "display_name": "Python 2",
   "language": "python",
   "name": "python2"
  },
  "language_info": {
   "codemirror_mode": {
    "name": "ipython",
    "version": 2
   },
   "file_extension": ".py",
   "mimetype": "text/x-python",
   "name": "python",
   "nbconvert_exporter": "python",
   "pygments_lexer": "ipython2",
   "version": "2.7.9"
  }
 },
 "nbformat": 4,
 "nbformat_minor": 0
}
